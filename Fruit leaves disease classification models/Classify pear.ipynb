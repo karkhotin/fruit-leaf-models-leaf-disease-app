{
 "cells": [
  {
   "cell_type": "code",
   "execution_count": 1,
   "id": "03e63060-3531-4cb0-b5bb-e38fe8d4433c",
   "metadata": {},
   "outputs": [],
   "source": [
    "import os\n",
    "os.environ[\"TF_CPP_MIN_LOG_LEVEL\"] = \"1\""
   ]
  },
  {
   "cell_type": "code",
   "execution_count": 2,
   "id": "e619f720-0884-4ed5-84b8-77ee5dfe14c9",
   "metadata": {},
   "outputs": [
    {
     "name": "stderr",
     "output_type": "stream",
     "text": [
      "/Users/vpedos/Library/Python/3.9/lib/python/site-packages/urllib3/__init__.py:35: NotOpenSSLWarning: urllib3 v2 only supports OpenSSL 1.1.1+, currently the 'ssl' module is compiled with 'LibreSSL 2.8.3'. See: https://github.com/urllib3/urllib3/issues/3020\n",
      "  warnings.warn(\n"
     ]
    }
   ],
   "source": [
    "\n",
    "from keras.models import load_model\n",
    "\n",
    "pretrained_model = load_model(\"MobileNetV3Large.keras\")"
   ]
  },
  {
   "cell_type": "code",
   "execution_count": 3,
   "id": "f7a99bf9",
   "metadata": {},
   "outputs": [],
   "source": [
    "# Import Data Science Libraries\n",
    "import numpy as np\n",
    "import pandas as pd\n",
    "import random\n",
    "\n",
    "# Import visualization libraries\n",
    "import matplotlib.pyplot as plt\n",
    "import matplotlib.cm as cm\n",
    "import cv2\n",
    "\n",
    "# Tensorflow Libraries\n",
    "import tensorflow as tf\n",
    "from tensorflow import keras\n",
    "from tensorflow.keras import layers,models\n",
    "from tensorflow.keras.preprocessing.image import ImageDataGenerator\n",
    "from tensorflow.keras.applications.mobilenet_v3 import preprocess_input\n",
    "# from tensorflow.keras.layers.experimental import preprocessing\n",
    "\n",
    "from tensorflow.keras.applications import MobileNetV3Large\n",
    "from keras.layers import Conv2D , MaxPool2D , Input , GlobalAveragePooling2D ,AveragePooling2D, Dense , Dropout ,Activation, Flatten , BatchNormalization\n",
    "\n",
    "from tensorflow.keras.optimizers import Adam\n",
    "from tensorflow.keras.losses import CategoricalCrossentropy\n",
    "from tensorflow.keras.callbacks import Callback, EarlyStopping, ModelCheckpoint\n",
    "from tensorflow.keras import Model\n",
    "\n"
   ]
  },
  {
   "cell_type": "code",
   "execution_count": 5,
   "id": "f4214c27",
   "metadata": {},
   "outputs": [],
   "source": [
    "TRAIN_DIR = 'plant_leave_disease_dataset/Pear/train'\n",
    "TEST_DIR = 'plant_leave_disease_dataset/Pear/test'\n",
    "\n",
    "train_generator = ImageDataGenerator(\n",
    "    preprocessing_function = preprocess_input,\n",
    "    validation_split = 0.2\n",
    ")\n",
    "\n",
    "test_generator = ImageDataGenerator(\n",
    "    preprocessing_function = preprocess_input\n",
    ")"
   ]
  },
  {
   "cell_type": "code",
   "execution_count": 6,
   "id": "b68969cd",
   "metadata": {},
   "outputs": [
    {
     "name": "stdout",
     "output_type": "stream",
     "text": [
      "Found 1925 images belonging to 4 classes.\n",
      "Found 480 images belonging to 4 classes.\n",
      "Found 602 images belonging to 4 classes.\n"
     ]
    }
   ],
   "source": [
    "# Split the data into three categories.\n",
    "train_images = train_generator.flow_from_directory(\n",
    "    TRAIN_DIR,\n",
    "    target_size=(224, 224),\n",
    "    color_mode='rgb',\n",
    "    class_mode='categorical',\n",
    "    batch_size=8,\n",
    "    shuffle=True,\n",
    "    seed=42,\n",
    "    subset='training'\n",
    ")\n",
    "\n",
    "val_images = train_generator.flow_from_directory(\n",
    "    TRAIN_DIR,\n",
    "    target_size=(224, 224),\n",
    "    color_mode='rgb',\n",
    "    class_mode='categorical',\n",
    "    batch_size=2,\n",
    "    shuffle=True,\n",
    "    seed=42,\n",
    "    subset='validation'\n",
    ")\n",
    "\n",
    "test_images = test_generator.flow_from_directory(\n",
    "    TEST_DIR,\n",
    "    target_size=(224, 224),\n",
    "    color_mode='rgb',\n",
    "    class_mode='categorical',\n",
    "    batch_size=2,\n",
    "    shuffle=False\n",
    ")"
   ]
  },
  {
   "cell_type": "code",
   "execution_count": 7,
   "id": "30be627b",
   "metadata": {},
   "outputs": [],
   "source": [
    "# Resize Layer\n",
    "resize_and_rescale = keras.Sequential([\n",
    "  layers.Resizing(224,224),\n",
    "  layers.Rescaling(1./255),\n",
    "])\n",
    "\n",
    "# Setup data augmentation\n",
    "data_augmentation = keras.Sequential([\n",
    "  layers.RandomFlip(\"horizontal_and_vertical\"),\n",
    "  layers.RandomRotation(0.2),\n",
    "  layers.RandomZoom(0.2),\n",
    "  layers.RandomHeight(0.2),\n",
    "  layers.RandomWidth(0.2),                       \n",
    "], name=\"data_augmentation\")"
   ]
  },
  {
   "cell_type": "code",
   "execution_count": 8,
   "id": "213d987f-452e-496e-b61e-c55fbdb6347b",
   "metadata": {},
   "outputs": [
    {
     "name": "stdout",
     "output_type": "stream",
     "text": [
      "241\n",
      "240\n"
     ]
    }
   ],
   "source": [
    "print(len(train_images))\n",
    "print(len(val_images))"
   ]
  },
  {
   "cell_type": "code",
   "execution_count": 9,
   "id": "345d6555",
   "metadata": {},
   "outputs": [],
   "source": [
    "# Load the pretained model\n",
    "pretrained_model.trainable = False\n"
   ]
  },
  {
   "cell_type": "code",
   "execution_count": 12,
   "id": "0ee0c94f",
   "metadata": {},
   "outputs": [],
   "source": [
    "# Build model\n",
    "inputs = pretrained_model.input\n",
    "x = resize_and_rescale(inputs)\n",
    "x = data_augmentation(x)\n",
    "\n",
    "x = Dense(512, activation='relu')(pretrained_model.output)\n",
    "x = Dropout(0.4)(x)\n",
    "x = Dense(256, activation='relu')(x)\n",
    "x = Dropout(0.4)(x)\n",
    "x = Dense(64, activation='relu')(x)\n",
    "x = Dropout(0.3)(x)\n",
    "\n",
    "outputs = Dense(4, activation='softmax')(x)\n",
    "\n",
    "model = Model(inputs=inputs, outputs=outputs)\n",
    "\n",
    "model.compile(\n",
    "    optimizer = tf.keras.optimizers.Adam(0.0001),\n",
    "    loss = tf.keras.losses.CategoricalCrossentropy(),\n",
    "    metrics=['accuracy']\n",
    ")"
   ]
  },
  {
   "cell_type": "code",
   "execution_count": 10,
   "id": "1bd32d0e",
   "metadata": {},
   "outputs": [],
   "source": [
    "# Create checkpoint callback\n",
    "checkpoint_path = \"./Pear_CNN-Model/Checkpoint/model_pear.keras\"\n",
    "checkpoint_callback = ModelCheckpoint(checkpoint_path,\n",
    "                                      save_weights_only=False,\n",
    "                                      monitor=\"val_accuracy\",\n",
    "                                      save_best_only=True)\n",
    "\n",
    "\n",
    "# Create callback to visualize data\n",
    "tb_callback = tf.keras.callbacks.TensorBoard(log_dir='./Pear_CNN-Model/Graph', \n",
    "                                             histogram_freq=1, write_graph=True, \n",
    "                                             write_images=True, embeddings_freq=1)"
   ]
  },
  {
   "cell_type": "code",
   "execution_count": 13,
   "id": "7a7ab529",
   "metadata": {},
   "outputs": [
    {
     "name": "stdout",
     "output_type": "stream",
     "text": [
      "Epoch 1/60\n"
     ]
    },
    {
     "name": "stderr",
     "output_type": "stream",
     "text": [
      "/Users/vpedos/Library/Python/3.9/lib/python/site-packages/keras/src/trainers/data_adapters/py_dataset_adapter.py:121: UserWarning: Your `PyDataset` class should call `super().__init__(**kwargs)` in its constructor. `**kwargs` can include `workers`, `use_multiprocessing`, `max_queue_size`. Do not pass these arguments to `fit()`, as they will be ignored.\n",
      "  self._warn_if_super_not_called()\n"
     ]
    },
    {
     "name": "stdout",
     "output_type": "stream",
     "text": [
      "\u001b[1m241/241\u001b[0m \u001b[32m━━━━━━━━━━━━━━━━━━━━\u001b[0m\u001b[37m\u001b[0m \u001b[1m117s\u001b[0m 454ms/step - accuracy: 0.5974 - loss: 0.9679 - val_accuracy: 0.7271 - val_loss: 0.5695\n",
      "Epoch 2/60\n",
      "\u001b[1m241/241\u001b[0m \u001b[32m━━━━━━━━━━━━━━━━━━━━\u001b[0m\u001b[37m\u001b[0m \u001b[1m105s\u001b[0m 425ms/step - accuracy: 0.7260 - loss: 0.6096 - val_accuracy: 0.7833 - val_loss: 0.4912\n",
      "Epoch 3/60\n",
      "\u001b[1m241/241\u001b[0m \u001b[32m━━━━━━━━━━━━━━━━━━━━\u001b[0m\u001b[37m\u001b[0m \u001b[1m105s\u001b[0m 425ms/step - accuracy: 0.7541 - loss: 0.5421 - val_accuracy: 0.7958 - val_loss: 0.4441\n",
      "Epoch 4/60\n",
      "\u001b[1m241/241\u001b[0m \u001b[32m━━━━━━━━━━━━━━━━━━━━\u001b[0m\u001b[37m\u001b[0m \u001b[1m104s\u001b[0m 424ms/step - accuracy: 0.7987 - loss: 0.4665 - val_accuracy: 0.8062 - val_loss: 0.4283\n",
      "Epoch 5/60\n",
      "\u001b[1m241/241\u001b[0m \u001b[32m━━━━━━━━━━━━━━━━━━━━\u001b[0m\u001b[37m\u001b[0m \u001b[1m104s\u001b[0m 424ms/step - accuracy: 0.8058 - loss: 0.4550 - val_accuracy: 0.8042 - val_loss: 0.4372\n",
      "Epoch 6/60\n",
      "\u001b[1m241/241\u001b[0m \u001b[32m━━━━━━━━━━━━━━━━━━━━\u001b[0m\u001b[37m\u001b[0m \u001b[1m103s\u001b[0m 418ms/step - accuracy: 0.8287 - loss: 0.3977 - val_accuracy: 0.8021 - val_loss: 0.4269\n",
      "Epoch 7/60\n",
      "\u001b[1m241/241\u001b[0m \u001b[32m━━━━━━━━━━━━━━━━━━━━\u001b[0m\u001b[37m\u001b[0m \u001b[1m105s\u001b[0m 427ms/step - accuracy: 0.8155 - loss: 0.4158 - val_accuracy: 0.8188 - val_loss: 0.4074\n",
      "Epoch 8/60\n",
      "\u001b[1m241/241\u001b[0m \u001b[32m━━━━━━━━━━━━━━━━━━━━\u001b[0m\u001b[37m\u001b[0m \u001b[1m105s\u001b[0m 426ms/step - accuracy: 0.8499 - loss: 0.3458 - val_accuracy: 0.8313 - val_loss: 0.4486\n",
      "Epoch 9/60\n",
      "\u001b[1m241/241\u001b[0m \u001b[32m━━━━━━━━━━━━━━━━━━━━\u001b[0m\u001b[37m\u001b[0m \u001b[1m106s\u001b[0m 430ms/step - accuracy: 0.8512 - loss: 0.3409 - val_accuracy: 0.8188 - val_loss: 0.3994\n",
      "Epoch 10/60\n",
      "\u001b[1m241/241\u001b[0m \u001b[32m━━━━━━━━━━━━━━━━━━━━\u001b[0m\u001b[37m\u001b[0m \u001b[1m107s\u001b[0m 435ms/step - accuracy: 0.8629 - loss: 0.3272 - val_accuracy: 0.8125 - val_loss: 0.4187\n",
      "Epoch 11/60\n",
      "\u001b[1m241/241\u001b[0m \u001b[32m━━━━━━━━━━━━━━━━━━━━\u001b[0m\u001b[37m\u001b[0m \u001b[1m106s\u001b[0m 431ms/step - accuracy: 0.8648 - loss: 0.3012 - val_accuracy: 0.8271 - val_loss: 0.4134\n",
      "Epoch 12/60\n",
      "\u001b[1m241/241\u001b[0m \u001b[32m━━━━━━━━━━━━━━━━━━━━\u001b[0m\u001b[37m\u001b[0m \u001b[1m106s\u001b[0m 432ms/step - accuracy: 0.8865 - loss: 0.2803 - val_accuracy: 0.8292 - val_loss: 0.4210\n",
      "Epoch 13/60\n",
      "\u001b[1m241/241\u001b[0m \u001b[32m━━━━━━━━━━━━━━━━━━━━\u001b[0m\u001b[37m\u001b[0m \u001b[1m106s\u001b[0m 432ms/step - accuracy: 0.8924 - loss: 0.2684 - val_accuracy: 0.8250 - val_loss: 0.4155\n",
      "Epoch 14/60\n",
      "\u001b[1m241/241\u001b[0m \u001b[32m━━━━━━━━━━━━━━━━━━━━\u001b[0m\u001b[37m\u001b[0m \u001b[1m105s\u001b[0m 428ms/step - accuracy: 0.8945 - loss: 0.2609 - val_accuracy: 0.8313 - val_loss: 0.4350\n"
     ]
    }
   ],
   "source": [
    "# Train the model\n",
    "history = model.fit(\n",
    "    train_images,\n",
    "    validation_data=val_images,\n",
    "    epochs=60,\n",
    "    callbacks=[\n",
    "        EarlyStopping(patience = 5),\n",
    "        tb_callback,\n",
    "        checkpoint_callback,\n",
    "    ]\n",
    ")"
   ]
  },
  {
   "cell_type": "code",
   "execution_count": 13,
   "id": "f159b1dc",
   "metadata": {},
   "outputs": [
    {
     "name": "stdout",
     "output_type": "stream",
     "text": [
      "    Train Loss: 0.26180\n",
      "Train Accuracy: 89.35%\n",
      "    Valid Loss: 0.39137\n",
      "Valid Accuracy: 84.13%\n",
      "    Test Loss: 0.36656\n",
      "Test Accuracy: 84.05%\n"
     ]
    }
   ],
   "source": [
    "# Show metrics\n",
    "train_acc, train_loss = model.evaluate(train_images, verbose=0)\n",
    "val_acc, val_loss = model.evaluate(val_images, verbose=0)\n",
    "test_acc, test_loss = model.evaluate(test_images, verbose=0)\n",
    "print(\"    Train Loss: {:.5f}\".format(train_acc))\n",
    "print(\"Train Accuracy: {:.2f}%\".format(train_loss * 100))\n",
    "print(\"    Valid Loss: {:.5f}\".format(val_acc))\n",
    "print(\"Valid Accuracy: {:.2f}%\".format(val_loss * 100))\n",
    "print(\"    Test Loss: {:.5f}\".format(test_acc))\n",
    "print(\"Test Accuracy: {:.2f}%\".format(test_loss * 100))"
   ]
  },
  {
   "cell_type": "code",
   "execution_count": 14,
   "id": "c11043ac-2a09-4366-92a9-ce991f6fe23a",
   "metadata": {},
   "outputs": [
    {
     "data": {
      "image/png": "[encoded data removed]",
      "text/plain": [
       "<Figure size 1200x400 with 2 Axes>"
      ]
     },
     "metadata": {},
     "output_type": "display_data"
    }
   ],
   "source": [
    "fig, (acc, loss) = plt.subplots(nrows = 1, ncols = 2)\n",
    "fig.set_size_inches(12, 4)\n",
    "acc.title.set_text('Classification Accuracy')\n",
    "acc.plot(history.history['accuracy'], color = 'pink', label = 'train')\n",
    "acc.plot(history.history['val_accuracy'], color = 'green', label = 'validation')\n",
    "acc.legend(['train', 'validation'])\n",
    "\n",
    "loss.title.set_text('Classification Loss')\n",
    "loss.plot(history.history['loss'], color = 'pink', label = 'train')\n",
    "loss.plot(history.history['val_loss'], color = 'green', label = 'validation')\n",
    "loss.legend(['train', 'validation'])\n",
    "\n",
    "plt.show()\n"
   ]
  },
  {
   "cell_type": "code",
   "execution_count": 15,
   "id": "c7643225",
   "metadata": {},
   "outputs": [],
   "source": [
    "# Create a HDF5 file 'my_model_mobilenet_v3.h5'\n",
    "from keras.models import load_model\n",
    "\n",
    "model.save('./Pear CNN-Model/pear_model_mobilenet_v3.keras')  "
   ]
  }
 ],
 "metadata": {
  "kernelspec": {
   "display_name": "Python 3 (ipykernel)",
   "language": "python",
   "name": "python3"
  },
  "language_info": {
   "codemirror_mode": {
    "name": "ipython",
    "version": 3
   },
   "file_extension": ".py",
   "mimetype": "text/x-python",
   "name": "python",
   "nbconvert_exporter": "python",
   "pygments_lexer": "ipython3",
   "version": "3.9.6"
  }
 },
 "nbformat": 4,
 "nbformat_minor": 5
}
